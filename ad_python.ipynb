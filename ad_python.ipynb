{
  "nbformat": 4,
  "nbformat_minor": 0,
  "metadata": {
    "colab": {
      "provenance": [],
      "authorship_tag": "ABX9TyMee1AbR0iAXaSB5v564EIj",
      "include_colab_link": true
    },
    "kernelspec": {
      "name": "python3",
      "display_name": "Python 3"
    },
    "language_info": {
      "name": "python"
    }
  },
  "cells": [
    {
      "cell_type": "markdown",
      "metadata": {
        "id": "view-in-github",
        "colab_type": "text"
      },
      "source": [
        "<a href=\"https://colab.research.google.com/github/Bhavika2006481/workshop/blob/main/ad_python.ipynb\" target=\"_parent\"><img src=\"https://colab.research.google.com/assets/colab-badge.svg\" alt=\"Open In Colab\"/></a>"
      ]
    },
    {
      "cell_type": "markdown",
      "source": [
        "1.Import Libraries"
      ],
      "metadata": {
        "id": "_dmHkiS-EVf0"
      }
    },
    {
      "cell_type": "code",
      "execution_count": 47,
      "metadata": {
        "id": "KkuLkNW8EPv8"
      },
      "outputs": [],
      "source": [
        "import re # Importing regular expression module"
      ]
    },
    {
      "cell_type": "markdown",
      "source": [
        "2. Raw Strings"
      ],
      "metadata": {
        "id": "p6vkwvIGExXW"
      }
    },
    {
      "cell_type": "code",
      "source": [
        "print(\"Hello\\nWorld\") #What if r is not used before string"
      ],
      "metadata": {
        "colab": {
          "base_uri": "https://localhost:8080/"
        },
        "id": "BCDUhjEjE2Ed",
        "outputId": "9800c8db-5298-4282-efbc-7c6e0c08487e"
      },
      "execution_count": 48,
      "outputs": [
        {
          "output_type": "stream",
          "name": "stdout",
          "text": [
            "Hello\n",
            "World\n"
          ]
        }
      ]
    },
    {
      "cell_type": "code",
      "source": [
        "print(r\"Hello\\nWorld\")  #What if r is used before string"
      ],
      "metadata": {
        "colab": {
          "base_uri": "https://localhost:8080/"
        },
        "id": "eNwNhVu7FA00",
        "outputId": "6ec8ee6c-3e7a-4d9c-d26a-f00a40c0cd01"
      },
      "execution_count": 49,
      "outputs": [
        {
          "output_type": "stream",
          "name": "stdout",
          "text": [
            "Hello\\nWorld\n"
          ]
        }
      ]
    },
    {
      "cell_type": "markdown",
      "source": [
        "3. Search Operations"
      ],
      "metadata": {
        "id": "UTjFHDAuE9qm"
      }
    },
    {
      "cell_type": "code",
      "source": [
        "test_string = \"123abc456789abc123ABC\" #sample string"
      ],
      "metadata": {
        "id": "E1WSkodWFINl"
      },
      "execution_count": 50,
      "outputs": []
    },
    {
      "cell_type": "code",
      "source": [
        "# re.match()"
      ],
      "metadata": {
        "id": "nEDB8sGtFR9N"
      },
      "execution_count": 51,
      "outputs": []
    },
    {
      "cell_type": "code",
      "source": [
        "pattern = re.compile(r\"abc\")  #compiling\n",
        "\n",
        "match = re.match(pattern, test_string) #match gives Match object only if pattern is found at beginning else None"
      ],
      "metadata": {
        "id": "eT9ERMJWFMXt"
      },
      "execution_count": 52,
      "outputs": []
    },
    {
      "cell_type": "code",
      "source": [
        "print(match)"
      ],
      "metadata": {
        "colab": {
          "base_uri": "https://localhost:8080/"
        },
        "id": "E19tgSYrFZPl",
        "outputId": "6d36e499-1d76-42e3-accb-96379e62a4a7"
      },
      "execution_count": 53,
      "outputs": [
        {
          "output_type": "stream",
          "name": "stdout",
          "text": [
            "None\n"
          ]
        }
      ]
    },
    {
      "cell_type": "code",
      "source": [
        "pattern = re.compile(r\"123\")\n",
        "\n",
        "match = re.match(pattern, test_string)  #match gives Match object only if pattern is found at beginning else None\n",
        "print(match)"
      ],
      "metadata": {
        "colab": {
          "base_uri": "https://localhost:8080/"
        },
        "id": "IzyquN53Fb1n",
        "outputId": "d3e836f4-2b14-473f-e15a-1e1b561bbe24"
      },
      "execution_count": 54,
      "outputs": [
        {
          "output_type": "stream",
          "name": "stdout",
          "text": [
            "<re.Match object; span=(0, 3), match='123'>\n"
          ]
        }
      ]
    },
    {
      "cell_type": "code",
      "source": [
        "match.span() #span()method of Match object which gives a tuple of start and (end+1) indices"
      ],
      "metadata": {
        "colab": {
          "base_uri": "https://localhost:8080/"
        },
        "id": "J2vZzJNhFl_e",
        "outputId": "a035c257-b468-4b78-b54f-74daae257ca0"
      },
      "execution_count": 55,
      "outputs": [
        {
          "output_type": "execute_result",
          "data": {
            "text/plain": [
              "(0, 3)"
            ]
          },
          "metadata": {},
          "execution_count": 55
        }
      ]
    },
    {
      "cell_type": "code",
      "source": [
        "start_index, end_index = match.span() #tuple unwrapping\n",
        "\n",
        "test_string[start_index:end_index] #slicing"
      ],
      "metadata": {
        "colab": {
          "base_uri": "https://localhost:8080/",
          "height": 36
        },
        "id": "zc-2mZelFrht",
        "outputId": "ef09e8c1-e5a3-4f48-bbd8-a931a7ececa7"
      },
      "execution_count": 56,
      "outputs": [
        {
          "output_type": "execute_result",
          "data": {
            "text/plain": [
              "'123'"
            ],
            "application/vnd.google.colaboratory.intrinsic+json": {
              "type": "string"
            }
          },
          "metadata": {},
          "execution_count": 56
        }
      ]
    },
    {
      "cell_type": "code",
      "source": [
        "match.start() #start() method of Match object returnss starting index"
      ],
      "metadata": {
        "colab": {
          "base_uri": "https://localhost:8080/"
        },
        "id": "-JBKfRn6FwRV",
        "outputId": "4177d3cb-d079-4593-d15e-422d23d9e1ee"
      },
      "execution_count": 57,
      "outputs": [
        {
          "output_type": "execute_result",
          "data": {
            "text/plain": [
              "0"
            ]
          },
          "metadata": {},
          "execution_count": 57
        }
      ]
    },
    {
      "cell_type": "code",
      "source": [
        "match.end()  #end() method of Match object returns ending +1 indexmatch.group()\n",
        "#group() method of Match object return the search pattern or we can say compile object used to search"
      ],
      "metadata": {
        "colab": {
          "base_uri": "https://localhost:8080/"
        },
        "id": "huerLv7xFwKl",
        "outputId": "2735d185-5775-47da-b8dd-a26e8930ad4c"
      },
      "execution_count": 58,
      "outputs": [
        {
          "output_type": "execute_result",
          "data": {
            "text/plain": [
              "3"
            ]
          },
          "metadata": {},
          "execution_count": 58
        }
      ]
    },
    {
      "cell_type": "code",
      "source": [
        "# re.search() --> returns only the first occuurence if found as a Match object"
      ],
      "metadata": {
        "id": "6MuSztCkFwBN"
      },
      "execution_count": 59,
      "outputs": []
    },
    {
      "cell_type": "code",
      "source": [
        "test_string"
      ],
      "metadata": {
        "colab": {
          "base_uri": "https://localhost:8080/",
          "height": 36
        },
        "id": "OG1QmWiHFv49",
        "outputId": "0a2dce56-1a73-4f4b-8e9f-605db21a0996"
      },
      "execution_count": 60,
      "outputs": [
        {
          "output_type": "execute_result",
          "data": {
            "text/plain": [
              "'123abc456789abc123ABC'"
            ],
            "application/vnd.google.colaboratory.intrinsic+json": {
              "type": "string"
            }
          },
          "metadata": {},
          "execution_count": 60
        }
      ]
    },
    {
      "cell_type": "code",
      "source": [
        "pattern = re.compile(r\"abc\")\n",
        "\n",
        "match = re.search(pattern, test_string) # give pattern and memory reference of text/string from where to search\n",
        "match"
      ],
      "metadata": {
        "colab": {
          "base_uri": "https://localhost:8080/"
        },
        "id": "zMInlXrCFvl1",
        "outputId": "43d3428b-c873-44e1-bfa1-9ab4f736ef7b"
      },
      "execution_count": 61,
      "outputs": [
        {
          "output_type": "execute_result",
          "data": {
            "text/plain": [
              "<re.Match object; span=(3, 6), match='abc'>"
            ]
          },
          "metadata": {},
          "execution_count": 61
        }
      ]
    },
    {
      "cell_type": "code",
      "source": [
        "match.group() #group() method of Match object return the search pattern or we can say compile object used to search"
      ],
      "metadata": {
        "colab": {
          "base_uri": "https://localhost:8080/",
          "height": 36
        },
        "id": "_JeKXH39FvJd",
        "outputId": "e9b249e4-81e1-4f6d-9c0e-6ccb01e00c03"
      },
      "execution_count": 62,
      "outputs": [
        {
          "output_type": "execute_result",
          "data": {
            "text/plain": [
              "'abc'"
            ],
            "application/vnd.google.colaboratory.intrinsic+json": {
              "type": "string"
            }
          },
          "metadata": {},
          "execution_count": 62
        }
      ]
    },
    {
      "cell_type": "code",
      "source": [
        "start_index, end_index = match.span()\n",
        "\n",
        "test_string[start_index:end_index]"
      ],
      "metadata": {
        "colab": {
          "base_uri": "https://localhost:8080/",
          "height": 36
        },
        "id": "U_91P90TGKcN",
        "outputId": "4f85d400-4f9b-4863-8c29-9fc7004c6f25"
      },
      "execution_count": 63,
      "outputs": [
        {
          "output_type": "execute_result",
          "data": {
            "text/plain": [
              "'abc'"
            ],
            "application/vnd.google.colaboratory.intrinsic+json": {
              "type": "string"
            }
          },
          "metadata": {},
          "execution_count": 63
        }
      ]
    },
    {
      "cell_type": "code",
      "source": [
        "# re.findall() --> returns LIST of all occurence, we cant use start end span group on this"
      ],
      "metadata": {
        "id": "Oyw5yZtMGKX1"
      },
      "execution_count": 64,
      "outputs": []
    },
    {
      "cell_type": "code",
      "source": [
        "pattern = re.compile(r\"abc\")\n",
        "\n",
        "matches = re.findall(pattern, test_string)\n",
        "matches\n",
        "#matches.span()"
      ],
      "metadata": {
        "colab": {
          "base_uri": "https://localhost:8080/"
        },
        "id": "NjVVLD5VGKTl",
        "outputId": "1f6c680e-9f33-4878-9d4c-c93a14afd844"
      },
      "execution_count": 65,
      "outputs": [
        {
          "output_type": "execute_result",
          "data": {
            "text/plain": [
              "['abc', 'abc']"
            ]
          },
          "metadata": {},
          "execution_count": 65
        }
      ]
    },
    {
      "cell_type": "code",
      "source": [
        "# re.finditer() --> returns ITERABLE MATCH object , we can use start end span group on this"
      ],
      "metadata": {
        "id": "YWmOPa31GKPN"
      },
      "execution_count": 66,
      "outputs": []
    },
    {
      "cell_type": "code",
      "source": [
        "pattern = re.compile(r\"abc\")\n",
        "\n",
        "matches = re.finditer(pattern, test_string)\n",
        "\n",
        "for match in matches:\n",
        "\tprint(match)\n",
        "\t#print(match.span())"
      ],
      "metadata": {
        "colab": {
          "base_uri": "https://localhost:8080/"
        },
        "id": "1h_v0hnsGKGd",
        "outputId": "b623413b-037a-486a-d7fd-7a4290f9dcd9"
      },
      "execution_count": 67,
      "outputs": [
        {
          "output_type": "stream",
          "name": "stdout",
          "text": [
            "<re.Match object; span=(3, 6), match='abc'>\n",
            "<re.Match object; span=(12, 15), match='abc'>\n"
          ]
        }
      ]
    },
    {
      "cell_type": "markdown",
      "source": [
        "4. Meta Characters"
      ],
      "metadata": {
        "id": "1uM7fZKMGZlO"
      }
    },
    {
      "cell_type": "code",
      "source": [
        "test_string_1 = \"123abc.456789abc123defGHI.ABC \\n xyz345WXYZ\""
      ],
      "metadata": {
        "id": "6d1ZRtAEGcZU"
      },
      "execution_count": 68,
      "outputs": []
    },
    {
      "cell_type": "code",
      "source": [
        "test_string_2 = \"The cat sat on the mat with a bat and a hat.\""
      ],
      "metadata": {
        "id": "EbqqxgDIGn-F"
      },
      "execution_count": 69,
      "outputs": []
    },
    {
      "cell_type": "code",
      "source": [
        "test_string_3 = \"The cat sat on the mat with a bat and a hat. $at, 8at, at.\""
      ],
      "metadata": {
        "id": "2zh8oeEJGn5l"
      },
      "execution_count": 70,
      "outputs": []
    },
    {
      "cell_type": "code",
      "source": [
        "text = \"\"\"Hello World!\n",
        "This is a test.\n",
        "Hello again!\n",
        "Python is fun.\n",
        "Hello Python\"\"\""
      ],
      "metadata": {
        "id": "yPYD-UojGn01"
      },
      "execution_count": 71,
      "outputs": []
    },
    {
      "cell_type": "markdown",
      "source": [
        "4.1 dot (.)"
      ],
      "metadata": {
        "id": "etgb64tBG4iW"
      }
    },
    {
      "cell_type": "code",
      "source": [
        "pattern = re.compile(r\".\") # ignores \\n character\n",
        "\n",
        "matches = re.finditer(pattern, test_string_1)\n",
        "\n",
        "for match in matches:\n",
        "\tprint(match)"
      ],
      "metadata": {
        "colab": {
          "base_uri": "https://localhost:8080/"
        },
        "id": "ZWEu6Ky-Gnsl",
        "outputId": "c4b8e7ea-f198-48b7-8540-08c313255b61"
      },
      "execution_count": 72,
      "outputs": [
        {
          "output_type": "stream",
          "name": "stdout",
          "text": [
            "<re.Match object; span=(0, 1), match='1'>\n",
            "<re.Match object; span=(1, 2), match='2'>\n",
            "<re.Match object; span=(2, 3), match='3'>\n",
            "<re.Match object; span=(3, 4), match='a'>\n",
            "<re.Match object; span=(4, 5), match='b'>\n",
            "<re.Match object; span=(5, 6), match='c'>\n",
            "<re.Match object; span=(6, 7), match='.'>\n",
            "<re.Match object; span=(7, 8), match='4'>\n",
            "<re.Match object; span=(8, 9), match='5'>\n",
            "<re.Match object; span=(9, 10), match='6'>\n",
            "<re.Match object; span=(10, 11), match='7'>\n",
            "<re.Match object; span=(11, 12), match='8'>\n",
            "<re.Match object; span=(12, 13), match='9'>\n",
            "<re.Match object; span=(13, 14), match='a'>\n",
            "<re.Match object; span=(14, 15), match='b'>\n",
            "<re.Match object; span=(15, 16), match='c'>\n",
            "<re.Match object; span=(16, 17), match='1'>\n",
            "<re.Match object; span=(17, 18), match='2'>\n",
            "<re.Match object; span=(18, 19), match='3'>\n",
            "<re.Match object; span=(19, 20), match='d'>\n",
            "<re.Match object; span=(20, 21), match='e'>\n",
            "<re.Match object; span=(21, 22), match='f'>\n",
            "<re.Match object; span=(22, 23), match='G'>\n",
            "<re.Match object; span=(23, 24), match='H'>\n",
            "<re.Match object; span=(24, 25), match='I'>\n",
            "<re.Match object; span=(25, 26), match='.'>\n",
            "<re.Match object; span=(26, 27), match='A'>\n",
            "<re.Match object; span=(27, 28), match='B'>\n",
            "<re.Match object; span=(28, 29), match='C'>\n",
            "<re.Match object; span=(29, 30), match=' '>\n",
            "<re.Match object; span=(31, 32), match=' '>\n",
            "<re.Match object; span=(32, 33), match='x'>\n",
            "<re.Match object; span=(33, 34), match='y'>\n",
            "<re.Match object; span=(34, 35), match='z'>\n",
            "<re.Match object; span=(35, 36), match='3'>\n",
            "<re.Match object; span=(36, 37), match='4'>\n",
            "<re.Match object; span=(37, 38), match='5'>\n",
            "<re.Match object; span=(38, 39), match='W'>\n",
            "<re.Match object; span=(39, 40), match='X'>\n",
            "<re.Match object; span=(40, 41), match='Y'>\n",
            "<re.Match object; span=(41, 42), match='Z'>\n"
          ]
        }
      ]
    },
    {
      "cell_type": "code",
      "source": [
        "# dot meta character in string 2\n",
        "print(test_string_2, end=\"\\n\\n\")\n",
        "\n",
        "pattern = re.compile(r\".\")\n",
        "\n",
        "matches = re.finditer(pattern, test_string_2)\n",
        "\n",
        "for match in matches:\n",
        "\tprint(match)"
      ],
      "metadata": {
        "colab": {
          "base_uri": "https://localhost:8080/"
        },
        "id": "kd8AQXNLG8Gt",
        "outputId": "2b773e3e-b272-4254-84b4-dc03807abc45"
      },
      "execution_count": 73,
      "outputs": [
        {
          "output_type": "stream",
          "name": "stdout",
          "text": [
            "The cat sat on the mat with a bat and a hat.\n",
            "\n",
            "<re.Match object; span=(0, 1), match='T'>\n",
            "<re.Match object; span=(1, 2), match='h'>\n",
            "<re.Match object; span=(2, 3), match='e'>\n",
            "<re.Match object; span=(3, 4), match=' '>\n",
            "<re.Match object; span=(4, 5), match='c'>\n",
            "<re.Match object; span=(5, 6), match='a'>\n",
            "<re.Match object; span=(6, 7), match='t'>\n",
            "<re.Match object; span=(7, 8), match=' '>\n",
            "<re.Match object; span=(8, 9), match='s'>\n",
            "<re.Match object; span=(9, 10), match='a'>\n",
            "<re.Match object; span=(10, 11), match='t'>\n",
            "<re.Match object; span=(11, 12), match=' '>\n",
            "<re.Match object; span=(12, 13), match='o'>\n",
            "<re.Match object; span=(13, 14), match='n'>\n",
            "<re.Match object; span=(14, 15), match=' '>\n",
            "<re.Match object; span=(15, 16), match='t'>\n",
            "<re.Match object; span=(16, 17), match='h'>\n",
            "<re.Match object; span=(17, 18), match='e'>\n",
            "<re.Match object; span=(18, 19), match=' '>\n",
            "<re.Match object; span=(19, 20), match='m'>\n",
            "<re.Match object; span=(20, 21), match='a'>\n",
            "<re.Match object; span=(21, 22), match='t'>\n",
            "<re.Match object; span=(22, 23), match=' '>\n",
            "<re.Match object; span=(23, 24), match='w'>\n",
            "<re.Match object; span=(24, 25), match='i'>\n",
            "<re.Match object; span=(25, 26), match='t'>\n",
            "<re.Match object; span=(26, 27), match='h'>\n",
            "<re.Match object; span=(27, 28), match=' '>\n",
            "<re.Match object; span=(28, 29), match='a'>\n",
            "<re.Match object; span=(29, 30), match=' '>\n",
            "<re.Match object; span=(30, 31), match='b'>\n",
            "<re.Match object; span=(31, 32), match='a'>\n",
            "<re.Match object; span=(32, 33), match='t'>\n",
            "<re.Match object; span=(33, 34), match=' '>\n",
            "<re.Match object; span=(34, 35), match='a'>\n",
            "<re.Match object; span=(35, 36), match='n'>\n",
            "<re.Match object; span=(36, 37), match='d'>\n",
            "<re.Match object; span=(37, 38), match=' '>\n",
            "<re.Match object; span=(38, 39), match='a'>\n",
            "<re.Match object; span=(39, 40), match=' '>\n",
            "<re.Match object; span=(40, 41), match='h'>\n",
            "<re.Match object; span=(41, 42), match='a'>\n",
            "<re.Match object; span=(42, 43), match='t'>\n",
            "<re.Match object; span=(43, 44), match='.'>\n"
          ]
        }
      ]
    },
    {
      "cell_type": "code",
      "source": [
        "# dot meta character in string 3\n",
        "print(test_string_3, end=\"\\n\\n\")\n",
        "\n",
        "pattern = re.compile(r\".\")\n",
        "\n",
        "matches = re.finditer(pattern, test_string_3)\n",
        "\n",
        "for match in matches:\n",
        "\tprint(match)"
      ],
      "metadata": {
        "colab": {
          "base_uri": "https://localhost:8080/"
        },
        "id": "2zBd2FzJG8Dd",
        "outputId": "4dab77ca-0e7e-4d62-b205-d276df0c7ea1"
      },
      "execution_count": 74,
      "outputs": [
        {
          "output_type": "stream",
          "name": "stdout",
          "text": [
            "The cat sat on the mat with a bat and a hat. $at, 8at, at.\n",
            "\n",
            "<re.Match object; span=(0, 1), match='T'>\n",
            "<re.Match object; span=(1, 2), match='h'>\n",
            "<re.Match object; span=(2, 3), match='e'>\n",
            "<re.Match object; span=(3, 4), match=' '>\n",
            "<re.Match object; span=(4, 5), match='c'>\n",
            "<re.Match object; span=(5, 6), match='a'>\n",
            "<re.Match object; span=(6, 7), match='t'>\n",
            "<re.Match object; span=(7, 8), match=' '>\n",
            "<re.Match object; span=(8, 9), match='s'>\n",
            "<re.Match object; span=(9, 10), match='a'>\n",
            "<re.Match object; span=(10, 11), match='t'>\n",
            "<re.Match object; span=(11, 12), match=' '>\n",
            "<re.Match object; span=(12, 13), match='o'>\n",
            "<re.Match object; span=(13, 14), match='n'>\n",
            "<re.Match object; span=(14, 15), match=' '>\n",
            "<re.Match object; span=(15, 16), match='t'>\n",
            "<re.Match object; span=(16, 17), match='h'>\n",
            "<re.Match object; span=(17, 18), match='e'>\n",
            "<re.Match object; span=(18, 19), match=' '>\n",
            "<re.Match object; span=(19, 20), match='m'>\n",
            "<re.Match object; span=(20, 21), match='a'>\n",
            "<re.Match object; span=(21, 22), match='t'>\n",
            "<re.Match object; span=(22, 23), match=' '>\n",
            "<re.Match object; span=(23, 24), match='w'>\n",
            "<re.Match object; span=(24, 25), match='i'>\n",
            "<re.Match object; span=(25, 26), match='t'>\n",
            "<re.Match object; span=(26, 27), match='h'>\n",
            "<re.Match object; span=(27, 28), match=' '>\n",
            "<re.Match object; span=(28, 29), match='a'>\n",
            "<re.Match object; span=(29, 30), match=' '>\n",
            "<re.Match object; span=(30, 31), match='b'>\n",
            "<re.Match object; span=(31, 32), match='a'>\n",
            "<re.Match object; span=(32, 33), match='t'>\n",
            "<re.Match object; span=(33, 34), match=' '>\n",
            "<re.Match object; span=(34, 35), match='a'>\n",
            "<re.Match object; span=(35, 36), match='n'>\n",
            "<re.Match object; span=(36, 37), match='d'>\n",
            "<re.Match object; span=(37, 38), match=' '>\n",
            "<re.Match object; span=(38, 39), match='a'>\n",
            "<re.Match object; span=(39, 40), match=' '>\n",
            "<re.Match object; span=(40, 41), match='h'>\n",
            "<re.Match object; span=(41, 42), match='a'>\n",
            "<re.Match object; span=(42, 43), match='t'>\n",
            "<re.Match object; span=(43, 44), match='.'>\n",
            "<re.Match object; span=(44, 45), match=' '>\n",
            "<re.Match object; span=(45, 46), match='$'>\n",
            "<re.Match object; span=(46, 47), match='a'>\n",
            "<re.Match object; span=(47, 48), match='t'>\n",
            "<re.Match object; span=(48, 49), match=','>\n",
            "<re.Match object; span=(49, 50), match=' '>\n",
            "<re.Match object; span=(50, 51), match='8'>\n",
            "<re.Match object; span=(51, 52), match='a'>\n",
            "<re.Match object; span=(52, 53), match='t'>\n",
            "<re.Match object; span=(53, 54), match=','>\n",
            "<re.Match object; span=(54, 55), match=' '>\n",
            "<re.Match object; span=(55, 56), match='a'>\n",
            "<re.Match object; span=(56, 57), match='t'>\n",
            "<re.Match object; span=(57, 58), match='.'>\n"
          ]
        }
      ]
    },
    {
      "cell_type": "markdown",
      "source": [
        "4.2 carat (^)"
      ],
      "metadata": {
        "id": "1hKvi3SRHHb9"
      }
    },
    {
      "cell_type": "code",
      "source": [
        "# Search for pattern at the beginning of the string\n",
        "print(text, end=\"\\n\\n\")\n",
        "\n",
        "pattern = re.compile(r\"Hello\") # This gives all occurences\n",
        "\n",
        "matches = re.finditer(pattern, text)\n",
        "\n",
        "for match in matches:\n",
        "\tprint(match)"
      ],
      "metadata": {
        "colab": {
          "base_uri": "https://localhost:8080/"
        },
        "id": "gzXLeDFxG7_9",
        "outputId": "fe21725d-8368-41e3-c6e2-b42c6407609b"
      },
      "execution_count": 75,
      "outputs": [
        {
          "output_type": "stream",
          "name": "stdout",
          "text": [
            "Hello World!\n",
            "This is a test.\n",
            "Hello again!\n",
            "Python is fun.\n",
            "Hello Python\n",
            "\n",
            "<re.Match object; span=(0, 5), match='Hello'>\n",
            "<re.Match object; span=(29, 34), match='Hello'>\n",
            "<re.Match object; span=(57, 62), match='Hello'>\n"
          ]
        }
      ]
    },
    {
      "cell_type": "code",
      "source": [
        "print(text, end=\"\\n\\n\") # Search for pattern at the beginning of the string and stops searching after finding first occurence\n",
        "\n",
        "pattern = re.compile(r\"^Hello\")  # Single Occurence\n",
        "\n",
        "matches = re.finditer(pattern, text)\n",
        "\n",
        "for match in matches:\n",
        "\tprint(match)"
      ],
      "metadata": {
        "colab": {
          "base_uri": "https://localhost:8080/"
        },
        "id": "HlCnJYDXG74V",
        "outputId": "31b37ab8-5dd3-485e-95c3-02f1e58019f6"
      },
      "execution_count": 76,
      "outputs": [
        {
          "output_type": "stream",
          "name": "stdout",
          "text": [
            "Hello World!\n",
            "This is a test.\n",
            "Hello again!\n",
            "Python is fun.\n",
            "Hello Python\n",
            "\n",
            "<re.Match object; span=(0, 5), match='Hello'>\n"
          ]
        }
      ]
    },
    {
      "cell_type": "markdown",
      "source": [
        "4.3 dollar ($)"
      ],
      "metadata": {
        "id": "JKJXpINKHTHF"
      }
    },
    {
      "cell_type": "code",
      "source": [
        "print(text, end=\"\\n\\n\") # Search for pattern at the end of the string\n",
        "\n",
        "pattern = re.compile(r\"Python\") # gives all occurence\n",
        "\n",
        "matches = re.finditer(pattern, text)\n",
        "\n",
        "for match in matches:\n",
        "\tprint(match)"
      ],
      "metadata": {
        "colab": {
          "base_uri": "https://localhost:8080/"
        },
        "id": "6ysXQb4aHO4V",
        "outputId": "1b98fef8-36c9-4638-9d3a-b4b251b3eed0"
      },
      "execution_count": 77,
      "outputs": [
        {
          "output_type": "stream",
          "name": "stdout",
          "text": [
            "Hello World!\n",
            "This is a test.\n",
            "Hello again!\n",
            "Python is fun.\n",
            "Hello Python\n",
            "\n",
            "<re.Match object; span=(42, 48), match='Python'>\n",
            "<re.Match object; span=(63, 69), match='Python'>\n"
          ]
        }
      ]
    },
    {
      "cell_type": "code",
      "source": [
        "print(text, end=\"\\n\\n\") # Search for pattern at the end of the string and stops searching after finding first occurence\n",
        "\n",
        "pattern = re.compile(r\"Python$\") # gives only single occuurence\n",
        "\n",
        "matches = re.finditer(pattern, text)\n",
        "\n",
        "for match in matches:\n",
        "\tprint(match)"
      ],
      "metadata": {
        "colab": {
          "base_uri": "https://localhost:8080/"
        },
        "id": "eGB_SHZcHWwF",
        "outputId": "4dfde92a-526e-4893-85f2-9e124eef69af"
      },
      "execution_count": 78,
      "outputs": [
        {
          "output_type": "stream",
          "name": "stdout",
          "text": [
            "Hello World!\n",
            "This is a test.\n",
            "Hello again!\n",
            "Python is fun.\n",
            "Hello Python\n",
            "\n",
            "<re.Match object; span=(63, 69), match='Python'>\n"
          ]
        }
      ]
    },
    {
      "cell_type": "markdown",
      "source": [
        "5. Character Sets"
      ],
      "metadata": {
        "id": "FY65nVSXHd69"
      }
    },
    {
      "cell_type": "markdown",
      "source": [
        "5.1 Custom Character Sets"
      ],
      "metadata": {
        "id": "NlGx7JE8HhE8"
      }
    },
    {
      "cell_type": "code",
      "source": [
        "test_string = \"123abc.4567XYZ$89abc123  def%GHIxyz.ABC#i.\""
      ],
      "metadata": {
        "id": "IYlcy7qBHbFm"
      },
      "execution_count": 79,
      "outputs": []
    },
    {
      "cell_type": "markdown",
      "source": [
        "5.1.1 Literal Characters"
      ],
      "metadata": {
        "id": "0n_xqMcxHoNe"
      }
    },
    {
      "cell_type": "code",
      "source": [
        "# vowels"
      ],
      "metadata": {
        "id": "oVlEHAAjHbBf"
      },
      "execution_count": 80,
      "outputs": []
    },
    {
      "cell_type": "code",
      "source": [
        "print(test_string, end=\"\\n\\n\")\n",
        "\n",
        "pattern  = re.compile(r\"[aeiou]\") #search for mentioned characters and return a single character in []\n",
        "\n",
        "matches = re.finditer(pattern, test_string)\n",
        "\n",
        "for match in matches:\n",
        "\tprint(match)"
      ],
      "metadata": {
        "colab": {
          "base_uri": "https://localhost:8080/"
        },
        "id": "G0nIYeSKHa9d",
        "outputId": "e2c235a7-7dc4-46fc-f0a3-3b0f1aaad54b"
      },
      "execution_count": 81,
      "outputs": [
        {
          "output_type": "stream",
          "name": "stdout",
          "text": [
            "123abc.4567XYZ$89abc123  def%GHIxyz.ABC#i.\n",
            "\n",
            "<re.Match object; span=(3, 4), match='a'>\n",
            "<re.Match object; span=(17, 18), match='a'>\n",
            "<re.Match object; span=(26, 27), match='e'>\n",
            "<re.Match object; span=(40, 41), match='i'>\n"
          ]
        }
      ]
    },
    {
      "cell_type": "code",
      "source": [
        "print(test_string, end=\"\\n\\n\")\n",
        "\n",
        "pattern  = re.compile(r\"[aeiouAEIOU]\") # 2nd example\n",
        "\n",
        "matches = re.finditer(pattern, test_string) #finditer\n",
        "\n",
        "for match in matches:\n",
        "\tprint(match)"
      ],
      "metadata": {
        "colab": {
          "base_uri": "https://localhost:8080/"
        },
        "id": "IPy2-U9dHazd",
        "outputId": "3daea0dd-8b87-4f30-a0bd-bbde4ac90256"
      },
      "execution_count": 82,
      "outputs": [
        {
          "output_type": "stream",
          "name": "stdout",
          "text": [
            "123abc.4567XYZ$89abc123  def%GHIxyz.ABC#i.\n",
            "\n",
            "<re.Match object; span=(3, 4), match='a'>\n",
            "<re.Match object; span=(17, 18), match='a'>\n",
            "<re.Match object; span=(26, 27), match='e'>\n",
            "<re.Match object; span=(31, 32), match='I'>\n",
            "<re.Match object; span=(36, 37), match='A'>\n",
            "<re.Match object; span=(40, 41), match='i'>\n"
          ]
        }
      ]
    },
    {
      "cell_type": "code",
      "source": [
        "print(test_string, end=\"\\n\\n\")\n",
        "\n",
        "pattern  = re.compile(r\"[aeiouAEIOU]\") # 3nd example\n",
        "\n",
        "matches = re.findall(pattern, test_string) #findall()\n",
        "matches"
      ],
      "metadata": {
        "colab": {
          "base_uri": "https://localhost:8080/"
        },
        "id": "u3oDjEd1ILH1",
        "outputId": "0da29022-01f0-4831-cde0-c91621e253a2"
      },
      "execution_count": 83,
      "outputs": [
        {
          "output_type": "stream",
          "name": "stdout",
          "text": [
            "123abc.4567XYZ$89abc123  def%GHIxyz.ABC#i.\n",
            "\n"
          ]
        },
        {
          "output_type": "execute_result",
          "data": {
            "text/plain": [
              "['a', 'a', 'e', 'I', 'A', 'i']"
            ]
          },
          "metadata": {},
          "execution_count": 83
        }
      ]
    },
    {
      "cell_type": "code",
      "source": [
        "# digits"
      ],
      "metadata": {
        "id": "Nc4QmBHdILEE"
      },
      "execution_count": 84,
      "outputs": []
    },
    {
      "cell_type": "code",
      "source": [
        "print(test_string, end=\"\\n\\n\")\n",
        "\n",
        "pattern  = re.compile(r\"[0123456789]\") # we can also search for digits from the string/text\n",
        "\n",
        "matches = re.finditer(pattern, test_string)\n",
        "\n",
        "for match in matches:\n",
        "\tprint(match)"
      ],
      "metadata": {
        "colab": {
          "base_uri": "https://localhost:8080/"
        },
        "id": "nYomolJMILAG",
        "outputId": "86282554-1049-43c6-b0cd-22b865ab29db"
      },
      "execution_count": 85,
      "outputs": [
        {
          "output_type": "stream",
          "name": "stdout",
          "text": [
            "123abc.4567XYZ$89abc123  def%GHIxyz.ABC#i.\n",
            "\n",
            "<re.Match object; span=(0, 1), match='1'>\n",
            "<re.Match object; span=(1, 2), match='2'>\n",
            "<re.Match object; span=(2, 3), match='3'>\n",
            "<re.Match object; span=(7, 8), match='4'>\n",
            "<re.Match object; span=(8, 9), match='5'>\n",
            "<re.Match object; span=(9, 10), match='6'>\n",
            "<re.Match object; span=(10, 11), match='7'>\n",
            "<re.Match object; span=(15, 16), match='8'>\n",
            "<re.Match object; span=(16, 17), match='9'>\n",
            "<re.Match object; span=(20, 21), match='1'>\n",
            "<re.Match object; span=(21, 22), match='2'>\n",
            "<re.Match object; span=(22, 23), match='3'>\n"
          ]
        }
      ]
    },
    {
      "cell_type": "code",
      "source": [
        "# even numbers"
      ],
      "metadata": {
        "id": "P6vCxfTjIK7N"
      },
      "execution_count": 86,
      "outputs": []
    },
    {
      "cell_type": "code",
      "source": [
        "print(test_string, end=\"\\n\\n\")\n",
        "\n",
        "pattern  = re.compile(r\"[2468]\") # explicitly search for whats in brach char by char\n",
        "\n",
        "matches = re.finditer(pattern, test_string)\n",
        "\n",
        "for match in matches:\n",
        "\tprint(match)"
      ],
      "metadata": {
        "colab": {
          "base_uri": "https://localhost:8080/"
        },
        "id": "7IPcDzwkIKzV",
        "outputId": "a014c34a-ac2e-432a-88ec-1dacd5d55aa5"
      },
      "execution_count": 87,
      "outputs": [
        {
          "output_type": "stream",
          "name": "stdout",
          "text": [
            "123abc.4567XYZ$89abc123  def%GHIxyz.ABC#i.\n",
            "\n",
            "<re.Match object; span=(1, 2), match='2'>\n",
            "<re.Match object; span=(7, 8), match='4'>\n",
            "<re.Match object; span=(9, 10), match='6'>\n",
            "<re.Match object; span=(15, 16), match='8'>\n",
            "<re.Match object; span=(21, 22), match='2'>\n"
          ]
        }
      ]
    },
    {
      "cell_type": "markdown",
      "source": [
        "5.1.2 Character Ranges"
      ],
      "metadata": {
        "id": "9kcnlnEMItnX"
      }
    },
    {
      "cell_type": "code",
      "source": [
        "# digits"
      ],
      "metadata": {
        "id": "zp8za-YEIKos"
      },
      "execution_count": 88,
      "outputs": []
    },
    {
      "cell_type": "code",
      "source": [
        "print(test_string, end=\"\\n\\n\")\n",
        "\n",
        "pattern  = re.compile(r\"[0-9]\") # we can also specify ranges instead of typing whole character set\n",
        "\n",
        "matches = re.finditer(pattern, test_string)\n",
        "\n",
        "for match in matches:\n",
        "\tprint(match)"
      ],
      "metadata": {
        "colab": {
          "base_uri": "https://localhost:8080/"
        },
        "id": "Gq0OBM9OIxX_",
        "outputId": "213c8717-8c59-471d-a7ce-cd9fafb4a747"
      },
      "execution_count": 89,
      "outputs": [
        {
          "output_type": "stream",
          "name": "stdout",
          "text": [
            "123abc.4567XYZ$89abc123  def%GHIxyz.ABC#i.\n",
            "\n",
            "<re.Match object; span=(0, 1), match='1'>\n",
            "<re.Match object; span=(1, 2), match='2'>\n",
            "<re.Match object; span=(2, 3), match='3'>\n",
            "<re.Match object; span=(7, 8), match='4'>\n",
            "<re.Match object; span=(8, 9), match='5'>\n",
            "<re.Match object; span=(9, 10), match='6'>\n",
            "<re.Match object; span=(10, 11), match='7'>\n",
            "<re.Match object; span=(15, 16), match='8'>\n",
            "<re.Match object; span=(16, 17), match='9'>\n",
            "<re.Match object; span=(20, 21), match='1'>\n",
            "<re.Match object; span=(21, 22), match='2'>\n",
            "<re.Match object; span=(22, 23), match='3'>\n"
          ]
        }
      ]
    },
    {
      "cell_type": "code",
      "source": [
        "# alphabets"
      ],
      "metadata": {
        "id": "U7h350DxIxUk"
      },
      "execution_count": 90,
      "outputs": []
    },
    {
      "cell_type": "code",
      "source": [
        "print(test_string, end=\"\\n\\n\")\n",
        "\n",
        "pattern  = re.compile(r\"[a-zA-Z0-9]\") # we can also specify ranges instead of typing whole character set\n",
        "\n",
        "matches = re.finditer(pattern, test_string)\n",
        "\n",
        "for match in matches:\n",
        "\tprint(match)"
      ],
      "metadata": {
        "colab": {
          "base_uri": "https://localhost:8080/"
        },
        "id": "apto2KBtIxRP",
        "outputId": "0e62e985-720c-4239-90de-ede416651119"
      },
      "execution_count": 91,
      "outputs": [
        {
          "output_type": "stream",
          "name": "stdout",
          "text": [
            "123abc.4567XYZ$89abc123  def%GHIxyz.ABC#i.\n",
            "\n",
            "<re.Match object; span=(0, 1), match='1'>\n",
            "<re.Match object; span=(1, 2), match='2'>\n",
            "<re.Match object; span=(2, 3), match='3'>\n",
            "<re.Match object; span=(3, 4), match='a'>\n",
            "<re.Match object; span=(4, 5), match='b'>\n",
            "<re.Match object; span=(5, 6), match='c'>\n",
            "<re.Match object; span=(7, 8), match='4'>\n",
            "<re.Match object; span=(8, 9), match='5'>\n",
            "<re.Match object; span=(9, 10), match='6'>\n",
            "<re.Match object; span=(10, 11), match='7'>\n",
            "<re.Match object; span=(11, 12), match='X'>\n",
            "<re.Match object; span=(12, 13), match='Y'>\n",
            "<re.Match object; span=(13, 14), match='Z'>\n",
            "<re.Match object; span=(15, 16), match='8'>\n",
            "<re.Match object; span=(16, 17), match='9'>\n",
            "<re.Match object; span=(17, 18), match='a'>\n",
            "<re.Match object; span=(18, 19), match='b'>\n",
            "<re.Match object; span=(19, 20), match='c'>\n",
            "<re.Match object; span=(20, 21), match='1'>\n",
            "<re.Match object; span=(21, 22), match='2'>\n",
            "<re.Match object; span=(22, 23), match='3'>\n",
            "<re.Match object; span=(25, 26), match='d'>\n",
            "<re.Match object; span=(26, 27), match='e'>\n",
            "<re.Match object; span=(27, 28), match='f'>\n",
            "<re.Match object; span=(29, 30), match='G'>\n",
            "<re.Match object; span=(30, 31), match='H'>\n",
            "<re.Match object; span=(31, 32), match='I'>\n",
            "<re.Match object; span=(32, 33), match='x'>\n",
            "<re.Match object; span=(33, 34), match='y'>\n",
            "<re.Match object; span=(34, 35), match='z'>\n",
            "<re.Match object; span=(36, 37), match='A'>\n",
            "<re.Match object; span=(37, 38), match='B'>\n",
            "<re.Match object; span=(38, 39), match='C'>\n",
            "<re.Match object; span=(40, 41), match='i'>\n"
          ]
        }
      ]
    },
    {
      "cell_type": "code",
      "source": [
        "# hexadecimal characters\n",
        "# body {\n",
        "#   background-color: #FF5733;\n",
        "# }\n"
      ],
      "metadata": {
        "id": "AEuzqK-6IxN2"
      },
      "execution_count": 92,
      "outputs": []
    },
    {
      "cell_type": "code",
      "source": [
        "print(test_string, end=\"\\n\\n\")\n",
        "\n",
        "pattern  = re.compile(r\"[0-9a-fA-F]\")\n",
        "\n",
        "matches = re.finditer(pattern, test_string)\n",
        "\n",
        "for match in matches:\n",
        "\tprint(match)"
      ],
      "metadata": {
        "colab": {
          "base_uri": "https://localhost:8080/"
        },
        "id": "7GmcI0wmIxKV",
        "outputId": "663fb7d1-0a26-4a41-e532-4d1bc41cce17"
      },
      "execution_count": 93,
      "outputs": [
        {
          "output_type": "stream",
          "name": "stdout",
          "text": [
            "123abc.4567XYZ$89abc123  def%GHIxyz.ABC#i.\n",
            "\n",
            "<re.Match object; span=(0, 1), match='1'>\n",
            "<re.Match object; span=(1, 2), match='2'>\n",
            "<re.Match object; span=(2, 3), match='3'>\n",
            "<re.Match object; span=(3, 4), match='a'>\n",
            "<re.Match object; span=(4, 5), match='b'>\n",
            "<re.Match object; span=(5, 6), match='c'>\n",
            "<re.Match object; span=(7, 8), match='4'>\n",
            "<re.Match object; span=(8, 9), match='5'>\n",
            "<re.Match object; span=(9, 10), match='6'>\n",
            "<re.Match object; span=(10, 11), match='7'>\n",
            "<re.Match object; span=(15, 16), match='8'>\n",
            "<re.Match object; span=(16, 17), match='9'>\n",
            "<re.Match object; span=(17, 18), match='a'>\n",
            "<re.Match object; span=(18, 19), match='b'>\n",
            "<re.Match object; span=(19, 20), match='c'>\n",
            "<re.Match object; span=(20, 21), match='1'>\n",
            "<re.Match object; span=(21, 22), match='2'>\n",
            "<re.Match object; span=(22, 23), match='3'>\n",
            "<re.Match object; span=(25, 26), match='d'>\n",
            "<re.Match object; span=(26, 27), match='e'>\n",
            "<re.Match object; span=(27, 28), match='f'>\n",
            "<re.Match object; span=(36, 37), match='A'>\n",
            "<re.Match object; span=(37, 38), match='B'>\n",
            "<re.Match object; span=(38, 39), match='C'>\n"
          ]
        }
      ]
    },
    {
      "cell_type": "markdown",
      "source": [
        "5.1.3 Character Negation"
      ],
      "metadata": {
        "id": "HAslgXqgJGr1"
      }
    },
    {
      "cell_type": "code",
      "source": [
        "# consonents"
      ],
      "metadata": {
        "id": "aiGOm4CaIxG2"
      },
      "execution_count": 94,
      "outputs": []
    },
    {
      "cell_type": "code",
      "source": [
        "print(test_string, end=\"\\n\\n\")\n",
        "\n",
        "pattern  = re.compile(r\"[^aeiouAEIOU0-9%$#. ]\") # for Negation use carat symbol in beginning only in square brackets\n",
        "\n",
        "matches = re.finditer(pattern, test_string)\n",
        "\n",
        "for match in matches:\n",
        "\tprint(match)"
      ],
      "metadata": {
        "colab": {
          "base_uri": "https://localhost:8080/"
        },
        "id": "BlpcSZS8IxC-",
        "outputId": "b2bbcf0e-a9a9-4c0b-db98-ef1f1e0e0569"
      },
      "execution_count": 95,
      "outputs": [
        {
          "output_type": "stream",
          "name": "stdout",
          "text": [
            "123abc.4567XYZ$89abc123  def%GHIxyz.ABC#i.\n",
            "\n",
            "<re.Match object; span=(4, 5), match='b'>\n",
            "<re.Match object; span=(5, 6), match='c'>\n",
            "<re.Match object; span=(11, 12), match='X'>\n",
            "<re.Match object; span=(12, 13), match='Y'>\n",
            "<re.Match object; span=(13, 14), match='Z'>\n",
            "<re.Match object; span=(18, 19), match='b'>\n",
            "<re.Match object; span=(19, 20), match='c'>\n",
            "<re.Match object; span=(25, 26), match='d'>\n",
            "<re.Match object; span=(27, 28), match='f'>\n",
            "<re.Match object; span=(29, 30), match='G'>\n",
            "<re.Match object; span=(30, 31), match='H'>\n",
            "<re.Match object; span=(32, 33), match='x'>\n",
            "<re.Match object; span=(33, 34), match='y'>\n",
            "<re.Match object; span=(34, 35), match='z'>\n",
            "<re.Match object; span=(37, 38), match='B'>\n",
            "<re.Match object; span=(38, 39), match='C'>\n"
          ]
        }
      ]
    },
    {
      "cell_type": "code",
      "source": [
        "# not even numbers"
      ],
      "metadata": {
        "id": "vUSrx0sjJNil"
      },
      "execution_count": 96,
      "outputs": []
    },
    {
      "cell_type": "code",
      "source": [
        "print(test_string, end=\"\\n\\n\")\n",
        "\n",
        "pattern  = re.compile(r\"[^02468a-zA-Z%$#. ]\") #Negation of even numbers\n",
        "\n",
        "matches = re.finditer(pattern, test_string)\n",
        "\n",
        "for match in matches:\n",
        "\tprint(match)"
      ],
      "metadata": {
        "colab": {
          "base_uri": "https://localhost:8080/"
        },
        "id": "2X8Xc9-kJQyN",
        "outputId": "a1bc65da-4a50-44e6-ab7b-35da46c90366"
      },
      "execution_count": 97,
      "outputs": [
        {
          "output_type": "stream",
          "name": "stdout",
          "text": [
            "123abc.4567XYZ$89abc123  def%GHIxyz.ABC#i.\n",
            "\n",
            "<re.Match object; span=(0, 1), match='1'>\n",
            "<re.Match object; span=(2, 3), match='3'>\n",
            "<re.Match object; span=(8, 9), match='5'>\n",
            "<re.Match object; span=(10, 11), match='7'>\n",
            "<re.Match object; span=(16, 17), match='9'>\n",
            "<re.Match object; span=(20, 21), match='1'>\n",
            "<re.Match object; span=(22, 23), match='3'>\n"
          ]
        }
      ]
    },
    {
      "cell_type": "code",
      "source": [
        "# special characters"
      ],
      "metadata": {
        "id": "dn3Z7y-yJU3H"
      },
      "execution_count": 98,
      "outputs": []
    },
    {
      "cell_type": "code",
      "source": [
        "print(test_string, end=\"\\n\\n\")\n",
        "\n",
        "pattern  = re.compile(r\"[^a-zA-Z0-9. ]\") #Special characters searching\n",
        "\n",
        "matches = re.finditer(pattern, test_string)\n",
        "\n",
        "for match in matches:\n",
        "\tprint(match)"
      ],
      "metadata": {
        "colab": {
          "base_uri": "https://localhost:8080/"
        },
        "id": "tOVx19cMJU0M",
        "outputId": "a30356f1-fb45-473a-81a6-d2dcfa67c4e7"
      },
      "execution_count": 99,
      "outputs": [
        {
          "output_type": "stream",
          "name": "stdout",
          "text": [
            "123abc.4567XYZ$89abc123  def%GHIxyz.ABC#i.\n",
            "\n",
            "<re.Match object; span=(14, 15), match='$'>\n",
            "<re.Match object; span=(28, 29), match='%'>\n",
            "<re.Match object; span=(39, 40), match='#'>\n"
          ]
        }
      ]
    },
    {
      "cell_type": "code",
      "source": [
        "5.2 Pre-defined Character Sets"
      ],
      "metadata": {
        "colab": {
          "base_uri": "https://localhost:8080/",
          "height": 106
        },
        "id": "vQUnMll1JUw1",
        "outputId": "d5d005f8-9554-40a3-b947-032d6b778c32"
      },
      "execution_count": 100,
      "outputs": [
        {
          "output_type": "error",
          "ename": "SyntaxError",
          "evalue": "invalid syntax (<ipython-input-100-41bb6bcfbfba>, line 1)",
          "traceback": [
            "\u001b[0;36m  File \u001b[0;32m\"<ipython-input-100-41bb6bcfbfba>\"\u001b[0;36m, line \u001b[0;32m1\u001b[0m\n\u001b[0;31m    5.2 Pre-defined Character Sets\u001b[0m\n\u001b[0m        ^\u001b[0m\n\u001b[0;31mSyntaxError\u001b[0m\u001b[0;31m:\u001b[0m invalid syntax\n"
          ]
        }
      ]
    },
    {
      "cell_type": "code",
      "source": [
        "test_string_1 = \"123abc.4567XYZ$89abc123 def%GHIxyz .ABC#i.\"\n",
        "\n",
        "test_string_2 = \"123abc.4567\\nXYZ$89abc123 def%GHI\\nxyz .ABC#i.\"\n",
        "\n",
        "test_string_3 = 'heyhello 123_ heyho hohey'"
      ],
      "metadata": {
        "id": "DLMGIvGzJUt1"
      },
      "execution_count": null,
      "outputs": []
    },
    {
      "cell_type": "code",
      "source": [
        "# digits"
      ],
      "metadata": {
        "id": "VPesHLw0Jof2"
      },
      "execution_count": 101,
      "outputs": []
    },
    {
      "cell_type": "code",
      "source": [
        "print(test_string_1, end=\"\\n\\n\")\n",
        "\n",
        "pattern  = re.compile(r\"[\\d]\") #\\d includes search for digits in text or string\n",
        "\n",
        "matches = re.finditer(pattern, test_string_1)\n",
        "\n",
        "for match in matches:\n",
        "\tprint(match)"
      ],
      "metadata": {
        "colab": {
          "base_uri": "https://localhost:8080/"
        },
        "id": "FHuNijJXJoY1",
        "outputId": "29b9a597-4af3-4a3a-c097-3a4c4a04efa8"
      },
      "execution_count": 102,
      "outputs": [
        {
          "output_type": "stream",
          "name": "stdout",
          "text": [
            "123abc.456789abc123defGHI.ABC \n",
            " xyz345WXYZ\n",
            "\n",
            "<re.Match object; span=(0, 1), match='1'>\n",
            "<re.Match object; span=(1, 2), match='2'>\n",
            "<re.Match object; span=(2, 3), match='3'>\n",
            "<re.Match object; span=(7, 8), match='4'>\n",
            "<re.Match object; span=(8, 9), match='5'>\n",
            "<re.Match object; span=(9, 10), match='6'>\n",
            "<re.Match object; span=(10, 11), match='7'>\n",
            "<re.Match object; span=(11, 12), match='8'>\n",
            "<re.Match object; span=(12, 13), match='9'>\n",
            "<re.Match object; span=(16, 17), match='1'>\n",
            "<re.Match object; span=(17, 18), match='2'>\n",
            "<re.Match object; span=(18, 19), match='3'>\n",
            "<re.Match object; span=(35, 36), match='3'>\n",
            "<re.Match object; span=(36, 37), match='4'>\n",
            "<re.Match object; span=(37, 38), match='5'>\n"
          ]
        }
      ]
    },
    {
      "cell_type": "code",
      "source": [
        "# not digits"
      ],
      "metadata": {
        "id": "TpBEPHCVK5IQ"
      },
      "execution_count": 103,
      "outputs": []
    },
    {
      "cell_type": "code",
      "source": [
        "print(test_string_1, end=\"\\n\\n\")\n",
        "\n",
        "pattern  = re.compile(r\"[\\D]\") #\\D search for everything other than digits in text or string\n",
        "\n",
        "matches = re.finditer(pattern, test_string_1)\n",
        "\n",
        "for match in matches:\n",
        "\tprint(match)"
      ],
      "metadata": {
        "colab": {
          "base_uri": "https://localhost:8080/"
        },
        "id": "mrnXBwMAK5EV",
        "outputId": "5608e643-9efe-4595-8162-bf1ca4f91e5f"
      },
      "execution_count": 104,
      "outputs": [
        {
          "output_type": "stream",
          "name": "stdout",
          "text": [
            "123abc.456789abc123defGHI.ABC \n",
            " xyz345WXYZ\n",
            "\n",
            "<re.Match object; span=(3, 4), match='a'>\n",
            "<re.Match object; span=(4, 5), match='b'>\n",
            "<re.Match object; span=(5, 6), match='c'>\n",
            "<re.Match object; span=(6, 7), match='.'>\n",
            "<re.Match object; span=(13, 14), match='a'>\n",
            "<re.Match object; span=(14, 15), match='b'>\n",
            "<re.Match object; span=(15, 16), match='c'>\n",
            "<re.Match object; span=(19, 20), match='d'>\n",
            "<re.Match object; span=(20, 21), match='e'>\n",
            "<re.Match object; span=(21, 22), match='f'>\n",
            "<re.Match object; span=(22, 23), match='G'>\n",
            "<re.Match object; span=(23, 24), match='H'>\n",
            "<re.Match object; span=(24, 25), match='I'>\n",
            "<re.Match object; span=(25, 26), match='.'>\n",
            "<re.Match object; span=(26, 27), match='A'>\n",
            "<re.Match object; span=(27, 28), match='B'>\n",
            "<re.Match object; span=(28, 29), match='C'>\n",
            "<re.Match object; span=(29, 30), match=' '>\n",
            "<re.Match object; span=(30, 31), match='\\n'>\n",
            "<re.Match object; span=(31, 32), match=' '>\n",
            "<re.Match object; span=(32, 33), match='x'>\n",
            "<re.Match object; span=(33, 34), match='y'>\n",
            "<re.Match object; span=(34, 35), match='z'>\n",
            "<re.Match object; span=(38, 39), match='W'>\n",
            "<re.Match object; span=(39, 40), match='X'>\n",
            "<re.Match object; span=(40, 41), match='Y'>\n",
            "<re.Match object; span=(41, 42), match='Z'>\n"
          ]
        }
      ]
    },
    {
      "cell_type": "code",
      "source": [
        "# whitespaces"
      ],
      "metadata": {
        "id": "u0opS2F0K4_0"
      },
      "execution_count": 105,
      "outputs": []
    },
    {
      "cell_type": "code",
      "source": [
        "print(test_string_2, end=\"\\n\\n\")\n",
        "\n",
        "pattern  = re.compile(r\"[\\s]\") #search for whitespaces, space, tab , newline characters comes under whitespaces\n",
        "\n",
        "matches = re.finditer(pattern, test_string_2)\n",
        "\n",
        "for match in matches:\n",
        "\tprint(match)"
      ],
      "metadata": {
        "colab": {
          "base_uri": "https://localhost:8080/"
        },
        "id": "zuR9sWc7K47V",
        "outputId": "48086a1d-ee15-446e-936b-ecd8d28e43de"
      },
      "execution_count": 106,
      "outputs": [
        {
          "output_type": "stream",
          "name": "stdout",
          "text": [
            "The cat sat on the mat with a bat and a hat.\n",
            "\n",
            "<re.Match object; span=(3, 4), match=' '>\n",
            "<re.Match object; span=(7, 8), match=' '>\n",
            "<re.Match object; span=(11, 12), match=' '>\n",
            "<re.Match object; span=(14, 15), match=' '>\n",
            "<re.Match object; span=(18, 19), match=' '>\n",
            "<re.Match object; span=(22, 23), match=' '>\n",
            "<re.Match object; span=(27, 28), match=' '>\n",
            "<re.Match object; span=(29, 30), match=' '>\n",
            "<re.Match object; span=(33, 34), match=' '>\n",
            "<re.Match object; span=(37, 38), match=' '>\n",
            "<re.Match object; span=(39, 40), match=' '>\n"
          ]
        }
      ]
    },
    {
      "cell_type": "code",
      "source": [
        "# not whitespaces"
      ],
      "metadata": {
        "id": "z6iCLt5lK4z2"
      },
      "execution_count": 107,
      "outputs": []
    },
    {
      "cell_type": "code",
      "source": [
        "print(test_string_2, end=\"\\n\\n\")\n",
        "\n",
        "pattern  = re.compile(r\"[\\S]\") #search for other than whitespaces, space, tab , newline characters comes under whitespaces\n",
        "\n",
        "matches = re.finditer(pattern, test_string_2)\n",
        "\n",
        "for match in matches:\n",
        "\tprint(match)"
      ],
      "metadata": {
        "colab": {
          "base_uri": "https://localhost:8080/"
        },
        "id": "Rav5r-PWLG11",
        "outputId": "e6b89a7f-5bea-4665-fa06-0ce97164b010"
      },
      "execution_count": 108,
      "outputs": [
        {
          "output_type": "stream",
          "name": "stdout",
          "text": [
            "The cat sat on the mat with a bat and a hat.\n",
            "\n",
            "<re.Match object; span=(0, 1), match='T'>\n",
            "<re.Match object; span=(1, 2), match='h'>\n",
            "<re.Match object; span=(2, 3), match='e'>\n",
            "<re.Match object; span=(4, 5), match='c'>\n",
            "<re.Match object; span=(5, 6), match='a'>\n",
            "<re.Match object; span=(6, 7), match='t'>\n",
            "<re.Match object; span=(8, 9), match='s'>\n",
            "<re.Match object; span=(9, 10), match='a'>\n",
            "<re.Match object; span=(10, 11), match='t'>\n",
            "<re.Match object; span=(12, 13), match='o'>\n",
            "<re.Match object; span=(13, 14), match='n'>\n",
            "<re.Match object; span=(15, 16), match='t'>\n",
            "<re.Match object; span=(16, 17), match='h'>\n",
            "<re.Match object; span=(17, 18), match='e'>\n",
            "<re.Match object; span=(19, 20), match='m'>\n",
            "<re.Match object; span=(20, 21), match='a'>\n",
            "<re.Match object; span=(21, 22), match='t'>\n",
            "<re.Match object; span=(23, 24), match='w'>\n",
            "<re.Match object; span=(24, 25), match='i'>\n",
            "<re.Match object; span=(25, 26), match='t'>\n",
            "<re.Match object; span=(26, 27), match='h'>\n",
            "<re.Match object; span=(28, 29), match='a'>\n",
            "<re.Match object; span=(30, 31), match='b'>\n",
            "<re.Match object; span=(31, 32), match='a'>\n",
            "<re.Match object; span=(32, 33), match='t'>\n",
            "<re.Match object; span=(34, 35), match='a'>\n",
            "<re.Match object; span=(35, 36), match='n'>\n",
            "<re.Match object; span=(36, 37), match='d'>\n",
            "<re.Match object; span=(38, 39), match='a'>\n",
            "<re.Match object; span=(40, 41), match='h'>\n",
            "<re.Match object; span=(41, 42), match='a'>\n",
            "<re.Match object; span=(42, 43), match='t'>\n",
            "<re.Match object; span=(43, 44), match='.'>\n"
          ]
        }
      ]
    },
    {
      "cell_type": "code",
      "source": [
        "# alphanumeric"
      ],
      "metadata": {
        "id": "K7RxB63hLGyt"
      },
      "execution_count": 109,
      "outputs": []
    },
    {
      "cell_type": "code",
      "source": [
        "print(test_string_2, end=\"\\n\\n\")\n",
        "\n",
        "pattern  = re.compile(r\"[\\w]\") # search for alphabets+nuumerical characters in text\n",
        "\n",
        "matches = re.finditer(pattern, test_string_2)\n",
        "\n",
        "for match in matches:\n",
        "\tprint(match)"
      ],
      "metadata": {
        "colab": {
          "base_uri": "https://localhost:8080/"
        },
        "id": "vqgRAbcFLGu3",
        "outputId": "f0d645ff-742b-405e-fd22-1c080997596d"
      },
      "execution_count": 110,
      "outputs": [
        {
          "output_type": "stream",
          "name": "stdout",
          "text": [
            "The cat sat on the mat with a bat and a hat.\n",
            "\n",
            "<re.Match object; span=(0, 1), match='T'>\n",
            "<re.Match object; span=(1, 2), match='h'>\n",
            "<re.Match object; span=(2, 3), match='e'>\n",
            "<re.Match object; span=(4, 5), match='c'>\n",
            "<re.Match object; span=(5, 6), match='a'>\n",
            "<re.Match object; span=(6, 7), match='t'>\n",
            "<re.Match object; span=(8, 9), match='s'>\n",
            "<re.Match object; span=(9, 10), match='a'>\n",
            "<re.Match object; span=(10, 11), match='t'>\n",
            "<re.Match object; span=(12, 13), match='o'>\n",
            "<re.Match object; span=(13, 14), match='n'>\n",
            "<re.Match object; span=(15, 16), match='t'>\n",
            "<re.Match object; span=(16, 17), match='h'>\n",
            "<re.Match object; span=(17, 18), match='e'>\n",
            "<re.Match object; span=(19, 20), match='m'>\n",
            "<re.Match object; span=(20, 21), match='a'>\n",
            "<re.Match object; span=(21, 22), match='t'>\n",
            "<re.Match object; span=(23, 24), match='w'>\n",
            "<re.Match object; span=(24, 25), match='i'>\n",
            "<re.Match object; span=(25, 26), match='t'>\n",
            "<re.Match object; span=(26, 27), match='h'>\n",
            "<re.Match object; span=(28, 29), match='a'>\n",
            "<re.Match object; span=(30, 31), match='b'>\n",
            "<re.Match object; span=(31, 32), match='a'>\n",
            "<re.Match object; span=(32, 33), match='t'>\n",
            "<re.Match object; span=(34, 35), match='a'>\n",
            "<re.Match object; span=(35, 36), match='n'>\n",
            "<re.Match object; span=(36, 37), match='d'>\n",
            "<re.Match object; span=(38, 39), match='a'>\n",
            "<re.Match object; span=(40, 41), match='h'>\n",
            "<re.Match object; span=(41, 42), match='a'>\n",
            "<re.Match object; span=(42, 43), match='t'>\n"
          ]
        }
      ]
    },
    {
      "cell_type": "code",
      "source": [
        "# not alphanumeric"
      ],
      "metadata": {
        "id": "uINU83YcLGrd"
      },
      "execution_count": 111,
      "outputs": []
    },
    {
      "cell_type": "code",
      "source": [
        "print(test_string_2, end=\"\\n\\n\")\n",
        "\n",
        "pattern  = re.compile(r\"[\\W]\") # search for other than alphabets+nuumerical characters in text which includes \\n and special chars and whitespaces\n",
        "\n",
        "matches = re.finditer(pattern, test_string_2)\n",
        "\n",
        "for match in matches:\n",
        "\tprint(match)"
      ],
      "metadata": {
        "colab": {
          "base_uri": "https://localhost:8080/"
        },
        "id": "sYQoty9XLbrl",
        "outputId": "562e8f0c-715f-4289-9705-cf4d64fcbc6b"
      },
      "execution_count": 112,
      "outputs": [
        {
          "output_type": "stream",
          "name": "stdout",
          "text": [
            "The cat sat on the mat with a bat and a hat.\n",
            "\n",
            "<re.Match object; span=(3, 4), match=' '>\n",
            "<re.Match object; span=(7, 8), match=' '>\n",
            "<re.Match object; span=(11, 12), match=' '>\n",
            "<re.Match object; span=(14, 15), match=' '>\n",
            "<re.Match object; span=(18, 19), match=' '>\n",
            "<re.Match object; span=(22, 23), match=' '>\n",
            "<re.Match object; span=(27, 28), match=' '>\n",
            "<re.Match object; span=(29, 30), match=' '>\n",
            "<re.Match object; span=(33, 34), match=' '>\n",
            "<re.Match object; span=(37, 38), match=' '>\n",
            "<re.Match object; span=(39, 40), match=' '>\n",
            "<re.Match object; span=(43, 44), match='.'>\n"
          ]
        }
      ]
    },
    {
      "cell_type": "code",
      "source": [
        "# word boundary"
      ],
      "metadata": {
        "id": "Mx4Dm1ddLbnw"
      },
      "execution_count": 113,
      "outputs": []
    },
    {
      "cell_type": "code",
      "source": [
        "test_string_3"
      ],
      "metadata": {
        "colab": {
          "base_uri": "https://localhost:8080/",
          "height": 36
        },
        "id": "1fBJmgkcLbE9",
        "outputId": "ec90b095-dd51-49c8-aef4-3d07ace4ac5d"
      },
      "execution_count": 114,
      "outputs": [
        {
          "output_type": "execute_result",
          "data": {
            "text/plain": [
              "'The cat sat on the mat with a bat and a hat. $at, 8at, at.'"
            ],
            "application/vnd.google.colaboratory.intrinsic+json": {
              "type": "string"
            }
          },
          "metadata": {},
          "execution_count": 114
        }
      ]
    },
    {
      "cell_type": "code",
      "source": [
        "pattern = re.compile(r\"hey\")\n",
        "\n",
        "matches = re.finditer(pattern, test_string_3)\n",
        "\n",
        "for match in matches:\n",
        "\tprint(match)"
      ],
      "metadata": {
        "id": "lLkVF-AZLzD2"
      },
      "execution_count": 115,
      "outputs": []
    },
    {
      "cell_type": "code",
      "source": [
        "pattern = re.compile(r\"\\bhey\\b\")\n",
        "# pattern = re.compile(r\"hey\\b\")\n",
        "# pattern = re.compile(r\"\\bhey\")\n",
        "\n",
        "matches = re.finditer(pattern, test_string_3)\n",
        "\n",
        "for match in matches:\n",
        "\tprint(match)"
      ],
      "metadata": {
        "id": "Aa-PgRN8LzAl"
      },
      "execution_count": 116,
      "outputs": []
    },
    {
      "cell_type": "markdown",
      "source": [
        "6. Quantifiers"
      ],
      "metadata": {
        "id": "NgML1QioL7Af"
      }
    },
    {
      "cell_type": "code",
      "source": [
        "test_string_1 = \"no no noo nooo noooothing noo\"\n",
        "\n",
        "test_string_2 = \"The colour of the sky and the color of the ocean are different.\"\n",
        "\n",
        "test_string_3 = \"We can use either http or https to generate URLs.\"\n",
        "\n",
        "test_string_4 = \"aaXaaaXaaaaXaaaaaX\"\n",
        "\n",
        "test_string_5 = \"<div>First div</div><div>Second div</div>\""
      ],
      "metadata": {
        "id": "xsaUGYe6Ly9F"
      },
      "execution_count": 117,
      "outputs": []
    },
    {
      "cell_type": "markdown",
      "source": [
        "6.1 Greedy"
      ],
      "metadata": {
        "id": "RBDMrIZPMAZl"
      }
    },
    {
      "cell_type": "code",
      "source": [
        "test_string_1"
      ],
      "metadata": {
        "colab": {
          "base_uri": "https://localhost:8080/",
          "height": 36
        },
        "id": "33Q_xKS7Ly49",
        "outputId": "c864d2cf-7c24-469b-f303-75d5c0ba2598"
      },
      "execution_count": 118,
      "outputs": [
        {
          "output_type": "execute_result",
          "data": {
            "text/plain": [
              "'no no noo nooo noooothing noo'"
            ],
            "application/vnd.google.colaboratory.intrinsic+json": {
              "type": "string"
            }
          },
          "metadata": {},
          "execution_count": 118
        }
      ]
    },
    {
      "cell_type": "code",
      "source": [
        "# * is for 0 or more occurences of preceding(pichewala) char\n",
        "pattern = re.compile(r\"noo*\")\n",
        "\n",
        "matches = re.finditer(pattern, test_string_1) # it will check if no(0-o), noo(1-o), nooo(2-o's) a.... and so on until string get terminated\n",
        "\n",
        "for match in matches:\n",
        "\tprint(match)"
      ],
      "metadata": {
        "colab": {
          "base_uri": "https://localhost:8080/"
        },
        "id": "qnErTcpoLy1c",
        "outputId": "23581d45-1dc0-46d0-8942-2f9e816c687f"
      },
      "execution_count": 119,
      "outputs": [
        {
          "output_type": "stream",
          "name": "stdout",
          "text": [
            "<re.Match object; span=(0, 2), match='no'>\n",
            "<re.Match object; span=(3, 5), match='no'>\n",
            "<re.Match object; span=(6, 9), match='noo'>\n",
            "<re.Match object; span=(10, 14), match='nooo'>\n",
            "<re.Match object; span=(15, 20), match='noooo'>\n",
            "<re.Match object; span=(26, 29), match='noo'>\n"
          ]
        }
      ]
    },
    {
      "cell_type": "code",
      "source": [
        "# + is for 1 or more occurences of preceding(pichewala) char\n",
        "pattern = re.compile(r\"noo+\")\n",
        "\n",
        "matches = re.finditer(pattern, test_string_1) # it will check if noo(1-o), nooo(2-o's) a.... and so on until string get terminated\n",
        "\n",
        "for match in matches:\n",
        "\tprint(match)"
      ],
      "metadata": {
        "colab": {
          "base_uri": "https://localhost:8080/"
        },
        "id": "EgnwhN_rMGA8",
        "outputId": "b282f6c2-e415-459e-f61d-7444c99d311e"
      },
      "execution_count": 120,
      "outputs": [
        {
          "output_type": "stream",
          "name": "stdout",
          "text": [
            "<re.Match object; span=(6, 9), match='noo'>\n",
            "<re.Match object; span=(10, 14), match='nooo'>\n",
            "<re.Match object; span=(15, 20), match='noooo'>\n",
            "<re.Match object; span=(26, 29), match='noo'>\n"
          ]
        }
      ]
    },
    {
      "cell_type": "code",
      "source": [
        "# ? is for 0 or 1 occurence of preceding(pichewala) char\n",
        "print(test_string_2, end=\"\\n\\n\")\n",
        "\n",
        "pattern = re.compile(r\"colou?r\") # colour, color/ if u is present none or once in string\n",
        "\n",
        "matches = re.finditer(pattern, test_string_2)\n",
        "\n",
        "for match in matches:\n",
        "\tprint(match)"
      ],
      "metadata": {
        "colab": {
          "base_uri": "https://localhost:8080/"
        },
        "id": "OtkF6dKSMF92",
        "outputId": "2267f834-1426-4fa5-f4b0-70d712d1967f"
      },
      "execution_count": 121,
      "outputs": [
        {
          "output_type": "stream",
          "name": "stdout",
          "text": [
            "The colour of the sky and the color of the ocean are different.\n",
            "\n",
            "<re.Match object; span=(4, 10), match='colour'>\n",
            "<re.Match object; span=(30, 35), match='color'>\n"
          ]
        }
      ]
    },
    {
      "cell_type": "code",
      "source": [
        "#2nd example of using greedy qunatifier '?'\n",
        "print(test_string_3, end=\"\\n\\n\")\n",
        "\n",
        "pattern = re.compile(r\"https?\") # http, https\n",
        "\n",
        "matches = re.finditer(pattern, test_string_3)\n",
        "\n",
        "for match in matches:\n",
        "\tprint(match)"
      ],
      "metadata": {
        "colab": {
          "base_uri": "https://localhost:8080/"
        },
        "id": "XAmXyKfUMF58",
        "outputId": "8dab3db4-b3e1-4297-ff8d-ae428bee98d7"
      },
      "execution_count": 122,
      "outputs": [
        {
          "output_type": "stream",
          "name": "stdout",
          "text": [
            "We can use either http or https to generate URLs.\n",
            "\n",
            "<re.Match object; span=(18, 22), match='http'>\n",
            "<re.Match object; span=(26, 31), match='https'>\n"
          ]
        }
      ]
    },
    {
      "cell_type": "code",
      "source": [
        "# {n} search for exactly n number of occurences in string\n",
        "test_string_4 = 'aaXaaaXaaaaXaaaaaaX'\n",
        "print(test_string_4, end=\"\\n\\n\")\n",
        "\n",
        "pattern = re.compile(r\"a{3}\") # it will search for a's occurring continously thrice\n",
        "\n",
        "matches = re.finditer(pattern, test_string_4)\n",
        "\n",
        "for match in matches:\n",
        "\tprint(match)"
      ],
      "metadata": {
        "colab": {
          "base_uri": "https://localhost:8080/"
        },
        "id": "9wDw2r2aMNod",
        "outputId": "14822e44-fa3c-4322-f106-62e2f5de0f71"
      },
      "execution_count": 123,
      "outputs": [
        {
          "output_type": "stream",
          "name": "stdout",
          "text": [
            "aaXaaaXaaaaXaaaaaaX\n",
            "\n",
            "<re.Match object; span=(3, 6), match='aaa'>\n",
            "<re.Match object; span=(7, 10), match='aaa'>\n",
            "<re.Match object; span=(12, 15), match='aaa'>\n",
            "<re.Match object; span=(15, 18), match='aaa'>\n"
          ]
        }
      ]
    },
    {
      "cell_type": "code",
      "source": [
        "# {n,m} search for exactly at least n and at most m number of occurences in string\n",
        "print(test_string_4, end=\"\\n\\n\")\n",
        "\n",
        "pattern = re.compile(r\"a{2,5}\") # first search if a is present 5 times or 4 times or 3 or 2\n",
        "\n",
        "matches = re.finditer(pattern, test_string_4)\n",
        "\n",
        "for match in matches:\n",
        "\tprint(match)"
      ],
      "metadata": {
        "colab": {
          "base_uri": "https://localhost:8080/"
        },
        "id": "Tj6T_KCfMP8l",
        "outputId": "f4f10b3b-7ca6-430c-f115-be1b2e7e2e21"
      },
      "execution_count": 124,
      "outputs": [
        {
          "output_type": "stream",
          "name": "stdout",
          "text": [
            "aaXaaaXaaaaXaaaaaaX\n",
            "\n",
            "<re.Match object; span=(0, 2), match='aa'>\n",
            "<re.Match object; span=(3, 6), match='aaa'>\n",
            "<re.Match object; span=(7, 11), match='aaaa'>\n",
            "<re.Match object; span=(12, 17), match='aaaaa'>\n"
          ]
        }
      ]
    },
    {
      "cell_type": "code",
      "source": [
        "6.2 Lazy"
      ],
      "metadata": {
        "colab": {
          "base_uri": "https://localhost:8080/",
          "height": 106
        },
        "id": "D2v54x7gMP49",
        "outputId": "c2b20b71-3d35-4fd7-fcc6-5b34312e1105"
      },
      "execution_count": 125,
      "outputs": [
        {
          "output_type": "error",
          "ename": "SyntaxError",
          "evalue": "invalid syntax (<ipython-input-125-1121efe9c57a>, line 1)",
          "traceback": [
            "\u001b[0;36m  File \u001b[0;32m\"<ipython-input-125-1121efe9c57a>\"\u001b[0;36m, line \u001b[0;32m1\u001b[0m\n\u001b[0;31m    6.2 Lazy\u001b[0m\n\u001b[0m        ^\u001b[0m\n\u001b[0;31mSyntaxError\u001b[0m\u001b[0;31m:\u001b[0m invalid syntax\n"
          ]
        }
      ]
    },
    {
      "cell_type": "code",
      "source": [
        "# ? after greedy quantifier search for minimum number of occurrence of that pattern in string\n",
        "print(test_string_1, end=\"\\n\\n\")\n",
        "\n",
        "pattern = re.compile(r\"noo*?\") # ? after greedy quantifier search is equivalent to lazy\n",
        "\"\"\"\n",
        "it will search for no first and return them only if found other it will search for noo  and\n",
        "terminate if found otherwise nooo\n",
        "\"\"\"\n",
        "\n",
        "matches = re.finditer(pattern, test_string_1)\n",
        "\n",
        "for match in matches:\n",
        "\tprint(match)"
      ],
      "metadata": {
        "id": "f3_q1PWIMP08"
      },
      "execution_count": null,
      "outputs": []
    },
    {
      "cell_type": "code",
      "source": [
        "# +?\n",
        "print(test_string_1, end=\"\\n\\n\")\n",
        "\n",
        "pattern = re.compile(r\"noo+?\") # + search for 1 or more , ? after that tells it is a lazy quantifier so it will search for 1 first then if not terminated then 2..3..4 etc\n",
        "\n",
        "matches = re.finditer(pattern, test_string_1)\n",
        "\n",
        "for match in matches:\n",
        "\tprint(match)"
      ],
      "metadata": {
        "id": "uFSm7utzMZAF"
      },
      "execution_count": null,
      "outputs": []
    },
    {
      "cell_type": "code",
      "source": [
        "#{n,m}?\n",
        "print(test_string_4, end=\"\\n\\n\")\n",
        "\n",
        "pattern = re.compile(r\"a{2,5}?\") # {n,m} search for n till m , ? after that tells it is a lazy quantifier so it will search for 2 first then if not terminated then 3..4..5 and terminate\n",
        "#❗❗ difference in greedy and lazy qunatifier here\n",
        "matches = re.finditer(pattern, test_string_4)\n",
        "\n",
        "for match in matches:\n",
        "\tprint(match)"
      ],
      "metadata": {
        "id": "gj6qsbuFMs2M"
      },
      "execution_count": null,
      "outputs": []
    },
    {
      "cell_type": "code",
      "source": [
        "print(test_string_5, end=\"\\n\\n\")\n",
        "\n",
        "pattern = re.compile(r\"<\\w+>.*</\\w+>\") # \\w search for alphanumeric characters .* will tell to match any number of occurence\n",
        "\n",
        "matches = re.findall(pattern, test_string_5)\n",
        "matches"
      ],
      "metadata": {
        "id": "4crurfPgMa-U"
      },
      "execution_count": null,
      "outputs": []
    },
    {
      "cell_type": "code",
      "source": [
        "print(test_string_5, end=\"\\n\\n\")\n",
        "\n",
        "pattern = re.compile(r\"<\\w+>.*?</\\w+>\") # \\w search for alphanumeric characters .* will tell to match 0 or 1 number of occurence\n",
        "\n",
        "matches = re.findall(pattern, test_string_5)\n",
        "matches"
      ],
      "metadata": {
        "colab": {
          "base_uri": "https://localhost:8080/"
        },
        "id": "bvuDOh2VM1ID",
        "outputId": "c6e12cf3-4a60-4a0c-fb44-1ec4f5b0d7b5"
      },
      "execution_count": 126,
      "outputs": [
        {
          "output_type": "stream",
          "name": "stdout",
          "text": [
            "<div>First div</div><div>Second div</div>\n",
            "\n"
          ]
        },
        {
          "output_type": "execute_result",
          "data": {
            "text/plain": [
              "['<div>First div</div>', '<div>Second div</div>']"
            ]
          },
          "metadata": {},
          "execution_count": 126
        }
      ]
    },
    {
      "cell_type": "code",
      "source": [
        "print(\"hello\")"
      ],
      "metadata": {
        "colab": {
          "base_uri": "https://localhost:8080/"
        },
        "id": "d_kxVIevRep9",
        "outputId": "bb36d9a9-9c33-4269-e278-e18d737f9cc5"
      },
      "execution_count": 127,
      "outputs": [
        {
          "output_type": "stream",
          "name": "stdout",
          "text": [
            "hello\n"
          ]
        }
      ]
    },
    {
      "cell_type": "code",
      "source": [],
      "metadata": {
        "id": "AwcJIAOgRg6D"
      },
      "execution_count": null,
      "outputs": []
    }
  ]
}